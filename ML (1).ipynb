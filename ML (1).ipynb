{
 "cells": [
  {
   "cell_type": "code",
   "execution_count": 90,
   "id": "e6e9818e",
   "metadata": {},
   "outputs": [
    {
     "name": "stdout",
     "output_type": "stream",
     "text": [
      "[13, 35, 24, 15, 48, 49, 20, 31, 16, 7, 36, 7, 32, 11, 46, 47, 23, 3, 32, 7, 14, 43, 23, 19, 14, 6, 35, 36, 44, 4, 25, 13, 46, 30, 19, 8, 12, 15, 18, 36, 7, 25, 7, 26, 15, 11, 48, 49, 34, 5, 32, 33, 49, 46, 20, 30, 28, 35, 40, 45, 18, 33, 5, 26, 4, 47, 24, 12, 37, 37, 4, 17, 19, 10, 10, 4, 41, 7, 37, 21, 31, 18, 5, 14, 5, 17, 30, 13, 36, 37, 32, 1, 12, 16, 21, 43, 49, 26, 17, 36, 9, 40, 45, 11, 32, 22, 13, 29, 24, 9, 26, 45, 17, 45, 25, 42, 10, 29, 37, 45, 31, 50, 19, 50, 25, 30, 11, 36, 20, 40, 31, 36, 37, 30, 29, 16, 49, 22, 47, 4, 4, 5, 42, 14, 16, 1, 27, 28, 3, 25, 21, 44, 41, 5, 34, 27, 14, 5, 22, 12, 33, 22, 14, 41, 27, 26, 36, 3, 3, 44, 29, 2, 39, 1, 19, 48, 25, 32, 11, 3, 19, 13, 9, 43, 9, 12, 22, 34, 28, 36, 5, 41, 43, 49, 6, 16, 44, 24, 3, 49, 24, 48, 11, 17, 16, 46, 33, 14, 8, 37, 40, 10, 30, 24, 20, 8, 5, 48, 46, 41, 33, 32, 21, 45, 12, 14, 4, 32, 42, 38, 30, 42, 16, 49, 8, 32, 3, 24, 13, 12, 11, 5, 20, 6, 12, 27, 5, 25, 35, 10, 6, 15, 13, 12, 33, 29, 40, 18, 21, 31, 14, 40, 28, 44, 36, 48, 26, 6, 13, 9, 19, 14, 41, 41, 23, 15, 27, 32, 20, 48, 24, 35, 47, 22, 7, 40, 8, 1, 13, 4, 41, 8, 10, 42, 5, 6, 21, 48, 34, 37, 12, 29, 4, 28, 31, 5, 26, 28, 10, 43, 27, 4, 37, 11, 39, 36, 8, 30, 43, 8, 6, 39, 16, 47, 4, 41, 50, 25, 50, 31, 11, 10, 16, 1, 31, 25, 9, 5, 15, 25, 47, 43, 23, 1, 35, 12, 40, 23, 46, 9, 4, 16, 16, 10, 24, 30, 38, 31, 8, 20, 27, 34, 35, 14, 47, 23, 23, 13, 29, 16, 24, 15, 21, 50, 37, 38, 26, 24, 20, 36, 28, 2, 27, 32, 39, 10, 38, 22, 29, 47, 25, 4, 20, 36, 45, 31, 39, 5, 35, 31, 1, 24, 17, 41, 12, 34, 33, 17, 50, 20, 29, 39, 43, 19, 18, 23, 17, 22, 11, 34, 25, 41, 48, 22, 31, 22, 47, 32, 40, 34, 20, 20, 31, 25, 42, 35, 27, 29, 9, 48, 25, 28, 5, 27, 6, 14, 21, 39, 49, 38, 37, 12, 46, 39, 37, 37, 46, 31, 28, 24, 24, 49, 8, 40, 24, 46, 28, 33, 4, 40, 43, 21, 49, 7, 30, 46, 40, 23, 11, 21, 43, 43, 42, 50, 39, 45, 24, 44, 1, 35, 50, 5, 30, 24, 38, 33, 17, 30, 43, 4, 4, 20, 28, 43, 42, 18, 39, 21, 25, 4, 29, 50, 18, 28, 48, 38, 43, 10, 32, 42, 49, 1, 32, 27, 47, 15, 17, 10, 21, 45, 19, 22, 7, 22, 48, 26, 29, 50, 42, 34, 39, 29, 48, 17, 1, 20, 22, 39, 1, 12, 37, 46, 38, 39, 40, 22, 13, 14, 21, 25, 14, 16, 23, 43, 10, 5, 6, 41, 11, 11, 23, 32, 11, 20, 32, 4, 26, 8, 16, 26, 41, 33, 48, 18, 18, 47, 22, 9, 17, 36, 34, 44, 5, 32, 20, 45, 46, 26, 39, 46, 27, 36, 31, 17, 16, 22, 25, 3, 13, 18, 7, 18, 10, 25, 22, 14, 40, 7, 4, 19, 41, 1, 27, 18, 18, 26, 40, 1, 42, 21, 34, 29, 24, 13, 3, 2, 28, 35, 16, 16, 44, 39, 40, 30, 43, 1, 1, 36, 15, 18, 21, 44, 28, 40, 26, 37, 17, 7, 39, 22, 38, 44, 44, 26, 43, 33, 37, 23, 30, 3, 46, 31, 45, 21, 41, 14, 32, 18, 21, 18, 16, 4, 42, 34, 30, 26, 18, 1, 8, 20, 37, 26, 14, 44, 23, 1, 17, 21, 39, 7, 6, 45, 32, 33, 11, 38, 49, 19, 18, 5, 6, 1, 14, 35, 21, 21, 41, 7, 18, 21, 23, 31, 21, 25, 21, 20, 13, 14, 34, 5, 8, 14, 24, 32, 32, 34, 30, 13, 10, 20, 3, 8, 35, 11, 22, 35, 48, 9, 23, 33, 4, 39, 33, 29, 16, 29, 9, 1, 47, 12, 34, 46, 2, 33, 2, 14, 12, 50, 3, 22, 48, 10, 7, 6, 42, 16, 31, 33, 12, 17, 22, 12, 48, 7, 40, 30, 21, 6, 20, 42, 36, 35, 17, 33, 9, 40, 20, 18, 50, 23, 38, 25, 27, 37, 28, 20, 33, 41, 37, 15, 36, 47, 1, 41, 32, 25, 49, 27, 2, 9, 1, 12, 18, 48, 8, 32, 40, 4, 44, 39, 50, 15, 32, 13, 30, 13, 50, 29, 19, 19, 49, 37, 13, 38, 33, 19, 28, 37, 19, 8, 22, 33, 3, 5, 7, 23, 21, 32, 17, 18, 24, 6, 49, 20, 33, 31, 46, 48, 33, 49, 3, 13, 48, 24, 5, 32, 36, 43, 24, 7, 49, 29, 46, 34, 32, 25, 36, 39, 19, 32, 33, 23, 7, 33, 30, 4, 32, 48, 48, 35, 48, 42, 23, 2, 3, 29, 33, 14, 25, 46, 45, 10, 10, 28, 11, 36, 5, 43, 20, 50, 36, 21, 43, 7, 8, 26, 8, 15, 49, 32, 27, 5, 16, 14, 17, 40, 43, 49, 45, 3, 48, 22, 30, 44, 7, 19, 4, 13, 7, 35, 33, 31, 50, 16, 5, 49, 22, 17, 2, 31, 3, 29, 42, 14, 48, 36, 46, 40, 42, 3, 46, 2, 10, 44, 15, 20, 6, 1, 6, 46, 45, 8, 17, 33, 32, 36, 25, 25, 4, 19, 6, 2, 25, 28, 7, 1, 48, 16, 2, 45]\n"
     ]
    }
   ],
   "source": [
    "import pandas as pd\n",
    "import numpy as np\n",
    "import matplotlib.pyplot as plt\n",
    "import random\n",
    "l1=[]\n",
    "n=1000\n",
    "for i in range(n):\n",
    "\tl1.append(random.randint(1,50))\n",
    "print(l1)"
   ]
  },
  {
   "cell_type": "code",
   "execution_count": 91,
   "id": "0dbe36d6",
   "metadata": {},
   "outputs": [
    {
     "name": "stdout",
     "output_type": "stream",
     "text": [
      "[42, 5, 14, 22, 7, 10, 8, 31, 19, 36, 27, 36, 17, 48, 25, 43, 35, 3, 2, 37, 24, 22, 29, 30, 28, 3, 23, 6, 46, 22, 41, 19, 41, 17, 25, 43, 21, 41, 36, 4, 21, 7, 33, 40, 46, 20, 9, 48, 41, 17, 8, 27, 13, 1, 9, 50, 22, 20, 1, 9, 31, 35, 24, 14, 16, 27, 35, 23, 9, 24, 48, 13, 6, 12, 21, 33, 21, 27, 5, 21, 27, 14, 24, 24, 43, 12, 43, 30, 35, 27, 5, 11, 2, 8, 28, 48, 27, 3, 12, 12, 22, 34, 14, 42, 49, 16, 47, 27, 29, 17, 18, 46, 5, 13, 8, 36, 44, 38, 18, 41, 48, 12, 24, 32, 23, 2, 28, 10, 18, 39, 27, 34, 34, 12, 16, 5, 7, 15, 43, 31, 47, 41, 47, 19, 50, 28, 17, 22, 16, 39, 19, 38, 18, 50, 20, 41, 36, 12, 32, 3, 39, 43, 22, 22, 39, 28, 11, 18, 3, 33, 3, 48, 5, 2, 37, 17, 38, 40, 3, 32, 25, 11, 37, 11, 35, 44, 44, 47, 14, 25, 5, 10, 25, 6, 44, 22, 7, 25, 38, 7, 16, 11, 32, 13, 29, 7, 24, 47, 38, 27, 24, 30, 19, 8, 24, 1, 33, 12, 28, 7, 4, 41, 28, 34, 48, 45, 25, 6, 8, 33, 45, 21, 19, 8, 27, 48, 47, 40, 29, 33, 33, 48, 27, 18, 48, 10, 15, 18, 22, 36, 23, 32, 41, 23, 23, 12, 22, 42, 45, 27, 22, 25, 11, 12, 10, 39, 23, 40, 21, 22, 9, 37, 6, 32, 4, 3, 11, 46, 12, 25, 12, 48, 48, 48, 21, 28, 49, 44, 15, 32, 14, 47, 2, 15, 30, 22, 6, 11, 44, 39, 16, 27, 3, 35, 7, 35, 43, 29, 45, 20, 41, 32, 5, 36, 37, 35, 6, 21, 29, 6, 13, 2, 7, 39, 8, 3, 11, 33, 49, 23, 39, 29, 17, 12, 19, 34, 42, 20, 5, 20, 31, 50, 39, 44, 21, 26, 23, 3, 1, 30, 23, 10, 34, 37, 37, 5, 11, 13, 31, 19, 8, 9, 20, 39, 34, 20, 18, 39, 20, 8, 5, 24, 41, 49, 2, 6, 20, 35, 3, 12, 2, 24, 15, 41, 37, 38, 34, 45, 9, 11, 11, 28, 44, 23, 27, 37, 48, 46, 4, 11, 37, 37, 45, 42, 36, 8, 29, 38, 44, 36, 2, 46, 34, 29, 44, 16, 48, 31, 43, 49, 9, 4, 27, 14, 12, 1, 31, 43, 1, 23, 16, 43, 24, 31, 41, 3, 18, 13, 39, 21, 37, 20, 3, 5, 22, 38, 45, 42, 10, 7, 2, 45, 50, 20, 8, 46, 23, 31, 23, 1, 40, 24, 21, 19, 27, 43, 36, 8, 25, 16, 28, 34, 48, 29, 37, 42, 42, 22, 37, 14, 9, 14, 19, 18, 19, 11, 37, 40, 48, 1, 8, 25, 43, 22, 42, 20, 47, 14, 21, 45, 44, 45, 33, 37, 22, 20, 13, 41, 11, 3, 49, 39, 40, 16, 30, 12, 25, 6, 49, 36, 20, 38, 43, 41, 48, 21, 4, 48, 14, 20, 43, 42, 27, 36, 50, 37, 47, 20, 17, 39, 46, 28, 21, 30, 20, 13, 40, 24, 45, 2, 34, 3, 11, 24, 27, 30, 39, 22, 22, 45, 29, 19, 34, 14, 13, 42, 7, 28, 42, 9, 8, 23, 25, 41, 24, 37, 10, 5, 8, 17, 32, 23, 43, 40, 17, 18, 42, 36, 3, 41, 23, 7, 42, 19, 42, 38, 32, 25, 8, 35, 24, 13, 44, 12, 40, 37, 41, 33, 9, 5, 18, 35, 13, 42, 11, 2, 37, 34, 41, 14, 25, 10, 5, 43, 48, 6, 21, 45, 39, 31, 15, 38, 33, 28, 5, 43, 32, 22, 10, 15, 25, 21, 2, 27, 19, 3, 30, 39, 19, 21, 27, 38, 48, 12, 44, 30, 9, 3, 26, 11, 48, 40, 22, 32, 14, 2, 49, 23, 25, 17, 47, 29, 35, 45, 22, 8, 36, 16, 11, 18, 25, 24, 16, 6, 22, 3, 40, 31, 6, 42, 45, 1, 8, 19, 23, 20, 24, 9, 9, 50, 29, 48, 15, 35, 41, 16, 33, 40, 30, 1, 28, 10, 41, 29, 27, 44, 32, 16, 8, 40, 7, 9, 39, 17, 13, 14, 19, 20, 14, 1, 50, 19, 27, 15, 40, 45, 10, 47, 10, 20, 7, 27, 12, 30, 27, 26, 6, 34, 48, 10, 45, 35, 42, 48, 14, 41, 50, 19, 48, 38, 13, 41, 23, 13, 45, 37, 14, 26, 11, 42, 31, 15, 6, 28, 45, 47, 3, 7, 5, 6, 1, 6, 23, 17, 13, 23, 6, 38, 48, 36, 42, 7, 8, 42, 4, 28, 30, 2, 8, 26, 42, 39, 29, 47, 36, 31, 19, 32, 21, 46, 15, 26, 12, 45, 18, 2, 38, 11, 6, 13, 23, 50, 35, 45, 41, 13, 42, 49, 2, 4, 40, 2, 48, 12, 49, 11, 17, 16, 27, 7, 21, 24, 44, 43, 36, 5, 45, 11, 48, 39, 47, 4, 47, 39, 47, 10, 22, 39, 3, 6, 21, 13, 50, 21, 16, 48, 39, 50, 47, 15, 26, 11, 9, 46, 31, 31, 18, 29, 35, 41, 16, 19, 18, 36, 25, 7, 45, 26, 8, 48, 29, 44, 26, 33, 4, 7, 6, 31, 31, 26, 12, 33, 49, 6, 15, 15, 42, 7, 2, 26, 47, 45, 40, 46, 40, 34, 32, 16, 31, 2, 32, 40, 3, 28, 40, 42, 46, 21, 29, 36, 1, 42, 31, 46, 46, 35, 50, 33, 10, 6, 36, 25, 27, 10, 12, 16, 39, 37, 14, 21, 29, 28, 20, 20, 18, 2, 15, 31, 3, 7, 46, 48, 35, 17, 13, 23, 38, 27, 28, 49, 26, 3, 39, 14, 50, 37, 19, 22, 48, 25, 12, 45, 18, 1, 14, 21, 21, 25, 44, 30, 22, 8, 48, 24, 3, 13, 24, 15, 43, 4]\n"
     ]
    }
   ],
   "source": [
    "import random\n",
    "l2=[]\n",
    "n=1000\n",
    "for i in range(n):\n",
    "    l2.append(random.randint(1,50))\n",
    "print(l2)"
   ]
  },
  {
   "cell_type": "code",
   "execution_count": 92,
   "id": "dcb4f17e",
   "metadata": {},
   "outputs": [
    {
     "data": {
      "text/html": [
       "<div>\n",
       "<style scoped>\n",
       "    .dataframe tbody tr th:only-of-type {\n",
       "        vertical-align: middle;\n",
       "    }\n",
       "\n",
       "    .dataframe tbody tr th {\n",
       "        vertical-align: top;\n",
       "    }\n",
       "\n",
       "    .dataframe thead th {\n",
       "        text-align: right;\n",
       "    }\n",
       "</style>\n",
       "<table border=\"1\" class=\"dataframe\">\n",
       "  <thead>\n",
       "    <tr style=\"text-align: right;\">\n",
       "      <th></th>\n",
       "      <th>x</th>\n",
       "      <th>y</th>\n",
       "    </tr>\n",
       "  </thead>\n",
       "  <tbody>\n",
       "    <tr>\n",
       "      <th>0</th>\n",
       "      <td>13</td>\n",
       "      <td>42</td>\n",
       "    </tr>\n",
       "    <tr>\n",
       "      <th>1</th>\n",
       "      <td>35</td>\n",
       "      <td>5</td>\n",
       "    </tr>\n",
       "    <tr>\n",
       "      <th>2</th>\n",
       "      <td>24</td>\n",
       "      <td>14</td>\n",
       "    </tr>\n",
       "    <tr>\n",
       "      <th>3</th>\n",
       "      <td>15</td>\n",
       "      <td>22</td>\n",
       "    </tr>\n",
       "    <tr>\n",
       "      <th>4</th>\n",
       "      <td>48</td>\n",
       "      <td>7</td>\n",
       "    </tr>\n",
       "    <tr>\n",
       "      <th>...</th>\n",
       "      <td>...</td>\n",
       "      <td>...</td>\n",
       "    </tr>\n",
       "    <tr>\n",
       "      <th>995</th>\n",
       "      <td>1</td>\n",
       "      <td>13</td>\n",
       "    </tr>\n",
       "    <tr>\n",
       "      <th>996</th>\n",
       "      <td>48</td>\n",
       "      <td>24</td>\n",
       "    </tr>\n",
       "    <tr>\n",
       "      <th>997</th>\n",
       "      <td>16</td>\n",
       "      <td>15</td>\n",
       "    </tr>\n",
       "    <tr>\n",
       "      <th>998</th>\n",
       "      <td>2</td>\n",
       "      <td>43</td>\n",
       "    </tr>\n",
       "    <tr>\n",
       "      <th>999</th>\n",
       "      <td>45</td>\n",
       "      <td>4</td>\n",
       "    </tr>\n",
       "  </tbody>\n",
       "</table>\n",
       "<p>1000 rows × 2 columns</p>\n",
       "</div>"
      ],
      "text/plain": [
       "      x   y\n",
       "0    13  42\n",
       "1    35   5\n",
       "2    24  14\n",
       "3    15  22\n",
       "4    48   7\n",
       "..   ..  ..\n",
       "995   1  13\n",
       "996  48  24\n",
       "997  16  15\n",
       "998   2  43\n",
       "999  45   4\n",
       "\n",
       "[1000 rows x 2 columns]"
      ]
     },
     "execution_count": 92,
     "metadata": {},
     "output_type": "execute_result"
    }
   ],
   "source": [
    "df = pd.DataFrame()\n",
    "df['x']=l1\n",
    "df['y']=l2\n",
    "df"
   ]
  },
  {
   "cell_type": "code",
   "execution_count": 93,
   "id": "5c9bb9ca",
   "metadata": {},
   "outputs": [
    {
     "data": {
      "text/plain": [
       "<matplotlib.collections.PathCollection at 0x15c1aa77fa0>"
      ]
     },
     "execution_count": 93,
     "metadata": {},
     "output_type": "execute_result"
    },
    {
     "data": {
      "image/png": "[encoded data removed]",
      "text/plain": [
       "<Figure size 432x288 with 1 Axes>"
      ]
     },
     "metadata": {
      "needs_background": "light"
     },
     "output_type": "display_data"
    }
   ],
   "source": [
    "x=df['x']\n",
    "y=df['y']\n",
    "plt.scatter(x,y)"
   ]
  },
  {
   "cell_type": "code",
   "execution_count": 94,
   "id": "92ee7b81",
   "metadata": {},
   "outputs": [],
   "source": [
    "x_mean=df['x'].mean()\n",
    "y_mean=df['y'].mean()"
   ]
  },
  {
   "cell_type": "code",
   "execution_count": 95,
   "id": "21f23057",
   "metadata": {},
   "outputs": [],
   "source": [
    "a=df['x']-x_mean\n",
    "b=df['y']-y_mean\n",
    "c=a*b\n",
    "d=c.sum()"
   ]
  },
  {
   "cell_type": "code",
   "execution_count": 96,
   "id": "73ed5ed6",
   "metadata": {},
   "outputs": [
    {
     "data": {
      "text/plain": [
       "-0.03805523761724089"
      ]
     },
     "execution_count": 96,
     "metadata": {},
     "output_type": "execute_result"
    }
   ],
   "source": [
    "e=(df['x']-x_mean)**2\n",
    "f=e.sum()\n",
    "m=d/f\n",
    "m"
   ]
  },
  {
   "cell_type": "code",
   "execution_count": 97,
   "id": "f33046a5",
   "metadata": {},
   "outputs": [
    {
     "data": {
      "text/plain": [
       "26.467254174567604"
      ]
     },
     "execution_count": 97,
     "metadata": {},
     "output_type": "execute_result"
    }
   ],
   "source": [
    "c=y_mean-(m*x_mean)\n",
    "c"
   ]
  },
  {
   "cell_type": "code",
   "execution_count": 98,
   "id": "c116fc40",
   "metadata": {},
   "outputs": [],
   "source": [
    "pred_y=np.dot(m,x)+c"
   ]
  },
  {
   "cell_type": "code",
   "execution_count": 124,
   "id": "99fc8911",
   "metadata": {},
   "outputs": [
    {
     "data": {
      "text/plain": [
       "9.34011311781678e-31"
      ]
     },
     "execution_count": 124,
     "metadata": {},
     "output_type": "execute_result"
    }
   ],
   "source": [
    "e=np.sum((y-pred_y)**2)\n",
    "mse=e/1000\n",
    "mse"
   ]
  },
  {
   "cell_type": "code",
   "execution_count": 100,
   "id": "b48b41f8",
   "metadata": {},
   "outputs": [
    {
     "data": {
      "text/plain": [
       "[<matplotlib.lines.Line2D at 0x15c1aae4b20>]"
      ]
     },
     "execution_count": 100,
     "metadata": {},
     "output_type": "execute_result"
    },
    {
     "data": {
      "image/png": "[encoded data removed]",
      "text/plain": [
       "<Figure size 432x288 with 1 Axes>"
      ]
     },
     "metadata": {
      "needs_background": "light"
     },
     "output_type": "display_data"
    }
   ],
   "source": [
    "plt.scatter(x,y)\n",
    "plt.plot(x,pred_y,color='red')\n"
   ]
  },
  {
   "cell_type": "code",
   "execution_count": 101,
   "id": "59a26655",
   "metadata": {},
   "outputs": [],
   "source": [
    "df.to_csv('file.csv')"
   ]
  },
  {
   "cell_type": "markdown",
   "id": "4c6ca3f0",
   "metadata": {},
   "source": [
    "# Gradient Descent"
   ]
  },
  {
   "cell_type": "code",
   "execution_count": 128,
   "id": "c69e04ef",
   "metadata": {},
   "outputs": [],
   "source": [
    "def gradient_descent(x, y):\n",
    "    m_curr = c_curr = 0\n",
    "    iterations = 1000\n",
    "    n = len(x)\n",
    "    learning_rate = 0.001\n",
    "    for i in range(iterations):\n",
    "        y_pred = m_curr * x + b_curr\n",
    "        cost = (1/n) * np.sum( (y-pred_y)**2)\n",
    "        md = -(2/n)*sum(x*(y-pred_y))\n",
    "        bd = -(2/n)*sum(y-pred_y)\n",
    "        m_curr = m_curr - learning_rate * md\n",
    "        b_curr = b_curr - learning_rate * bd\n",
    "        print(\"m {}, b {}, cost {}, iteration {}\".format(m_curr, b_curr, cost, i))"
   ]
  },
  {
   "cell_type": "markdown",
   "id": "63f88b4a",
   "metadata": {},
   "source": [
    "# Sklearn"
   ]
  },
  {
   "cell_type": "code",
   "execution_count": 114,
   "id": "e1cc99ca",
   "metadata": {},
   "outputs": [
    {
     "data": {
      "text/plain": [
       "LinearRegression(normalize=True)"
      ]
     },
     "execution_count": 114,
     "metadata": {},
     "output_type": "execute_result"
    }
   ],
   "source": [
    "from sklearn import linear_model,metrics,model_selection\n",
    "model=linear_model.LinearRegression(normalize=True)\n",
    "X=np.expand_dims(x,1)\n",
    "model.fit(X,y)"
   ]
  },
  {
   "cell_type": "code",
   "execution_count": 116,
   "id": "2b6ba731",
   "metadata": {},
   "outputs": [
    {
     "data": {
      "text/plain": [
       "array([-0.03805524])"
      ]
     },
     "execution_count": 116,
     "metadata": {},
     "output_type": "execute_result"
    }
   ],
   "source": [
    "slope=model.coef_\n",
    "slope"
   ]
  },
  {
   "cell_type": "code",
   "execution_count": 117,
   "id": "c9683ba1",
   "metadata": {},
   "outputs": [
    {
     "data": {
      "text/plain": [
       "26.467254174567604"
      ]
     },
     "execution_count": 117,
     "metadata": {},
     "output_type": "execute_result"
    }
   ],
   "source": [
    "intercept=model.intercept_\n",
    "intercept"
   ]
  },
  {
   "cell_type": "code",
   "execution_count": 120,
   "id": "e031e06f",
   "metadata": {},
   "outputs": [],
   "source": [
    "y1=slope*x + intercept"
   ]
  },
  {
   "cell_type": "code",
   "execution_count": 123,
   "id": "b9e48507",
   "metadata": {},
   "outputs": [
    {
     "data": {
      "image/png": "[encoded data removed]",
      "text/plain": [
       "<Figure size 432x288 with 1 Axes>"
      ]
     },
     "metadata": {
      "needs_background": "light"
     },
     "output_type": "display_data"
    }
   ],
   "source": [
    "plt.scatter(x,y)\n",
    "plt.plot(x,y1,'r')\n",
    "plt.show()"
   ]
  },
  {
   "cell_type": "markdown",
   "id": "a0b685c3",
   "metadata": {},
   "source": [
    "# Inference\n",
    "The slope and intercept in both the methods are the same only with minor differences."
   ]
  }
 ],
 "metadata": {
  "kernelspec": {
   "display_name": "Python 3 (ipykernel)",
   "language": "python",
   "name": "python3"
  },
  "language_info": {
   "codemirror_mode": {
    "name": "ipython",
    "version": 3
   },
   "file_extension": ".py",
   "mimetype": "text/x-python",
   "name": "python",
   "nbconvert_exporter": "python",
   "pygments_lexer": "ipython3",
   "version": "3.9.7"
  }
 },
 "nbformat": 4,
 "nbformat_minor": 5
}
